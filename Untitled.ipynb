{
 "cells": [
  {
   "cell_type": "code",
   "execution_count": 114,
   "metadata": {
    "collapsed": true
   },
   "outputs": [],
   "source": [
    "import numpy as np\n",
    "import pandas as pd\n",
    "\n",
    "df = pd.read_csv('PremierLeague14.csv')"
   ]
  },
  {
   "cell_type": "code",
   "execution_count": 115,
   "metadata": {
    "collapsed": false
   },
   "outputs": [
    {
     "data": {
      "text/plain": [
       "array([[728, 'Arsenal', 'Crystal Palace', 2, 1],\n",
       "       [728, 'Leicester', 'Everton', 2, 2],\n",
       "       [728, 'Man United', 'Swansea', 1, 2],\n",
       "       ..., \n",
       "       [447, 'Man City', 'Southampton', 2, 0],\n",
       "       [447, 'Newcastle', 'West Ham', 2, 0],\n",
       "       [447, 'Stoke', 'Liverpool', 6, 1]], dtype=object)"
      ]
     },
     "execution_count": 115,
     "metadata": {},
     "output_type": "execute_result"
    }
   ],
   "source": [
    "df = df[['Date', 'HomeTeam', 'AwayTeam', 'FTHG', 'FTAG'] ]\n",
    "\n",
    "df.Date = pd.to_datetime(df.Date)\n",
    "\n",
    "import datetime\n",
    "#today = datetime.datetime.now().strftime(\"%Y-%m-%d\")\n",
    "today = datetime.datetime.now()\n",
    "df['Now'] = today\n",
    "\n",
    "def delta_time(times) :\n",
    "    now, date = times\n",
    "    A = np.datetime64(date)\n",
    "    B = np.datetime64(now)\n",
    "    C = (B-A)/(60*60*24*10**6)\n",
    "    return C.astype(int)\n",
    "\n",
    "df['DaysSince'] = df[['Now', 'Date']].apply(delta_time, axis=1)\n",
    "\n",
    "df = df[['DaysSince', 'HomeTeam', 'AwayTeam', 'FTHG', 'FTAG']]\n",
    "\n",
    "results_list = df.as_matrix()\n",
    "\n",
    "results_list\n",
    "\n"
   ]
  },
  {
   "cell_type": "code",
   "execution_count": null,
   "metadata": {
    "collapsed": true
   },
   "outputs": [],
   "source": []
  }
 ],
 "metadata": {
  "kernelspec": {
   "display_name": "Python 2",
   "language": "python",
   "name": "python2"
  },
  "language_info": {
   "codemirror_mode": {
    "name": "ipython",
    "version": 2
   },
   "file_extension": ".py",
   "mimetype": "text/x-python",
   "name": "python",
   "nbconvert_exporter": "python",
   "pygments_lexer": "ipython2",
   "version": "2.7.11"
  }
 },
 "nbformat": 4,
 "nbformat_minor": 0
}
